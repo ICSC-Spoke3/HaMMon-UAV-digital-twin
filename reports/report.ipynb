{
 "cells": [
  {
   "cell_type": "markdown",
   "metadata": {},
   "source": [
    "### This notebook shows the main functions of the `Report` class"
   ]
  },
  {
   "cell_type": "code",
   "execution_count": null,
   "metadata": {},
   "outputs": [],
   "source": [
    "from report import Report"
   ]
  },
  {
   "cell_type": "code",
   "execution_count": null,
   "metadata": {},
   "outputs": [],
   "source": [
    "data_path='./zurich_base_2GPU'\n",
    "rep = Report(data_path=data_path, CPU_THRESHOLD=0, RAM_BASE=0)"
   ]
  },
  {
   "cell_type": "code",
   "execution_count": null,
   "metadata": {},
   "outputs": [],
   "source": [
    "# (uncomment what you want to see)\n",
    "\n",
    "# CPU features and usage data\n",
    "#rep.CPU\n",
    "\n",
    "# per GPU features and usage data\n",
    "#rep.GPUS\n",
    "\n",
    "# global GPUS usage data\n",
    "#rep.GPU"
   ]
  },
  {
   "cell_type": "code",
   "execution_count": null,
   "metadata": {},
   "outputs": [],
   "source": [
    "# average values per modulo and time intervals\n",
    "\n",
    "# Time intervals are calculated between the first and last monitoring \n",
    "# calls of every individual process; therefore, the interval can be zero \n",
    "# if only one call is executed. The total interval is not the sum \n",
    "# of the individual intervals.\n",
    "\n",
    "#rep.scores"
   ]
  },
  {
   "cell_type": "code",
   "execution_count": null,
   "metadata": {},
   "outputs": [],
   "source": [
    "# save CPU, GPUS and GPU dictionaries to data.json \n",
    "# and scores to scores.xlsx\n",
    "\n",
    "#rep.export()"
   ]
  },
  {
   "cell_type": "code",
   "execution_count": null,
   "metadata": {},
   "outputs": [],
   "source": [
    "rep.csv['Modulo'].unique()"
   ]
  },
  {
   "cell_type": "code",
   "execution_count": null,
   "metadata": {},
   "outputs": [],
   "source": [
    "\"\"\" \n",
    "    plot normalized data\n",
    "    if save=True (default), will create the file plot_all.png\n",
    "    if \"modulo\" is not specified, will plot the entire process data\n",
    "\"\"\"\n",
    "\n",
    "#rep.PLOT([50,7], save=True, n=450, fileName='450')\n",
    "#rep.PLOT([20,7], save=True, n=420, fileName='3-steps', modulo=['addPhotos', 'matchPhotos',\n",
    "#       'alignCameras', 'buildDepthMaps'])\n",
    "# rep.PLOT((50,10), save=True, modulo=['Inizio','NewProject', 'addPhotos', 'matchPhotos',\\\n",
    "#                                      'alignCameras', 'buildDepthMaps'])\n"
   ]
  },
  {
   "cell_type": "code",
   "execution_count": null,
   "metadata": {},
   "outputs": [],
   "source": [
    "\"\"\" \n",
    "    plot GPUS memory usage data\n",
    "    if save=True (default), will create plot_gpu.png\n",
    "\"\"\"\n",
    "\n",
    "#rep.GPU_PLOT((50,10), save=True, modulo=['Inizio', 'buildDepthMaps', 'matchPhotos'], fileName='boh')\n",
    "#rep.GPU_PLOT((300,10), save=True)"
   ]
  }
 ],
 "metadata": {
  "kernelspec": {
   "display_name": "Python 3",
   "language": "python",
   "name": "python3"
  },
  "language_info": {
   "codemirror_mode": {
    "name": "ipython",
    "version": 3
   },
   "file_extension": ".py",
   "mimetype": "text/x-python",
   "name": "python",
   "nbconvert_exporter": "python",
   "pygments_lexer": "ipython3",
   "version": "3.10.12"
  }
 },
 "nbformat": 4,
 "nbformat_minor": 2
}
