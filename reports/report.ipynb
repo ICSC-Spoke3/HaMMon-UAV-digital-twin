{
 "cells": [
  {
   "cell_type": "markdown",
   "metadata": {},
   "source": [
    "### This notebook shows the main functions of the `Report` class"
   ]
  },
  {
   "cell_type": "code",
   "execution_count": null,
   "metadata": {},
   "outputs": [],
   "source": [
    "from report import Report"
   ]
  },
  {
   "cell_type": "code",
   "execution_count": null,
   "metadata": {},
   "outputs": [],
   "source": [
    "data_path='./sample_data'\n",
    "rep = Report(data_path=data_path, CPU_THRESHOLD=5, RAM_BASE=0)"
   ]
  },
  {
   "cell_type": "code",
   "execution_count": null,
   "metadata": {},
   "outputs": [],
   "source": [
    "# (uncomment what you want to see)\n",
    "\n",
    "# CPU features and usage data\n",
    "#rep.CPU\n",
    "\n",
    "# per GPU features and uasge data\n",
    "rep.GPUS\n",
    "\n",
    "# global GPUS usage data\n",
    "#rep.GPU"
   ]
  },
  {
   "cell_type": "code",
   "execution_count": null,
   "metadata": {},
   "outputs": [],
   "source": [
    "# average values per modulo and time intervals\n",
    "\n",
    "# Time intervals are calculated between the first and last monitoring \n",
    "# calls of the individual process; therefore, the interval can be zero \n",
    "# if only one call is executed. The total interval is not the sum \n",
    "# of the individual intervals.\n",
    "\n",
    "rep.scores"
   ]
  },
  {
   "cell_type": "code",
   "execution_count": null,
   "metadata": {},
   "outputs": [],
   "source": [
    "# save CPU, GPUS and GPU dictionaries to data.json \n",
    "# and scores to scores.xlsx\n",
    "rep.export()"
   ]
  },
  {
   "cell_type": "code",
   "execution_count": null,
   "metadata": {},
   "outputs": [],
   "source": [
    "# plot normalized data\n",
    "# if save=True (default), will create plot_all.png\n",
    "\n",
    "rep.PLOT((50,10), save=True)"
   ]
  },
  {
   "cell_type": "code",
   "execution_count": null,
   "metadata": {},
   "outputs": [],
   "source": [
    "# plot GPUS memory usage data\n",
    "# if save=True (default), will create plot_gpu.png\n",
    "\n",
    "rep.GPU_PLOT((50,10), save=False)"
   ]
  }
 ],
 "metadata": {
  "kernelspec": {
   "display_name": "Python 3",
   "language": "python",
   "name": "python3"
  },
  "language_info": {
   "codemirror_mode": {
    "name": "ipython",
    "version": 3
   },
   "file_extension": ".py",
   "mimetype": "text/x-python",
   "name": "python",
   "nbconvert_exporter": "python",
   "pygments_lexer": "ipython3",
   "version": "3.10.12"
  }
 },
 "nbformat": 4,
 "nbformat_minor": 2
}
